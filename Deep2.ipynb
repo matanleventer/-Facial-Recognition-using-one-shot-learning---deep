{
  "cells": [
    {
      "cell_type": "markdown",
      "source": [
        "# Assignment 2\n",
        "## Rom Amsili - 316509397\n",
        "## Matan Leventer - 208447029"
      ],
      "metadata": {
        "id": "MCJcB94rBR_S"
      }
    },
    {
      "cell_type": "code",
      "source": [
        "!pip install torchmetrics"
      ],
      "metadata": {
        "colab": {
          "base_uri": "https://localhost:8080/"
        },
        "id": "FjbVd-ds0-6w",
        "outputId": "5856b319-f52b-44c7-d947-778e773dc98c"
      },
      "execution_count": 62,
      "outputs": [
        {
          "output_type": "stream",
          "name": "stdout",
          "text": [
            "Looking in indexes: https://pypi.org/simple, https://us-python.pkg.dev/colab-wheels/public/simple/\n",
            "Collecting torchmetrics\n",
            "  Downloading torchmetrics-0.11.0-py3-none-any.whl (512 kB)\n",
            "\u001b[K     |████████████████████████████████| 512 kB 7.9 MB/s \n",
            "\u001b[?25hRequirement already satisfied: torch>=1.8.1 in /usr/local/lib/python3.8/dist-packages (from torchmetrics) (1.13.0+cu116)\n",
            "Requirement already satisfied: numpy>=1.17.2 in /usr/local/lib/python3.8/dist-packages (from torchmetrics) (1.21.6)\n",
            "Requirement already satisfied: packaging in /usr/local/lib/python3.8/dist-packages (from torchmetrics) (21.3)\n",
            "Requirement already satisfied: typing-extensions in /usr/local/lib/python3.8/dist-packages (from torchmetrics) (4.4.0)\n",
            "Requirement already satisfied: pyparsing!=3.0.5,>=2.0.2 in /usr/local/lib/python3.8/dist-packages (from packaging->torchmetrics) (3.0.9)\n",
            "Installing collected packages: torchmetrics\n",
            "Successfully installed torchmetrics-0.11.0\n"
          ]
        }
      ]
    },
    {
      "cell_type": "code",
      "execution_count": 148,
      "metadata": {
        "id": "kbViIzd9gXRx"
      },
      "outputs": [],
      "source": [
        "import numpy as np\n",
        "import pandas as pd\n",
        "import torch\n",
        "import torchmetrics\n",
        "from torchmetrics.classification import BinaryAccuracy\n",
        "import matplotlib.pyplot as plt\n",
        "import seaborn as sns\n",
        "from sklearn.datasets import make_regression, make_classification\n",
        "from torch import nn\n",
        "from torch.nn import functional as F\n",
        "import torchvision\n",
        "from torch.utils.tensorboard import SummaryWriter\n",
        "from torch import nn\n",
        "from torch.nn import functional as F\n",
        "from torch.utils.data import Dataset, DataLoader\n",
        "from google.colab import drive\n",
        "import os\n",
        "import cv2\n",
        "from torchvision import transforms\n",
        "from PIL import Image\n",
        "from collections import defaultdict"
      ]
    },
    {
      "cell_type": "code",
      "execution_count": null,
      "metadata": {
        "colab": {
          "base_uri": "https://localhost:8080/"
        },
        "id": "_mHux_vLYtBU",
        "outputId": "7e4edd94-3154-4c9e-f2b0-168c32daeb2a"
      },
      "outputs": [
        {
          "output_type": "stream",
          "name": "stdout",
          "text": [
            "Using cpu device\n"
          ]
        }
      ],
      "source": [
        "device = \"cuda\" if torch.cuda.is_available() else \"cpu\"\n",
        "print(f\"Using {device} device\")"
      ]
    },
    {
      "cell_type": "code",
      "execution_count": 3,
      "metadata": {
        "colab": {
          "base_uri": "https://localhost:8080/"
        },
        "id": "DA8rTtfe7pC9",
        "outputId": "0cac79da-0e7a-40e3-d2ed-5019fff6e8b8"
      },
      "outputs": [
        {
          "output_type": "stream",
          "name": "stdout",
          "text": [
            "Mounted at /content/drive\n"
          ]
        }
      ],
      "source": [
        "drive.mount('/content/drive')"
      ]
    },
    {
      "cell_type": "code",
      "execution_count": 147,
      "metadata": {
        "id": "8KB0GOoeYi99"
      },
      "outputs": [],
      "source": [
        "train_data = open('Ass2_train.txt','r')\n",
        "test_data = open('Ass2_train.txt','r')"
      ]
    },
    {
      "cell_type": "code",
      "execution_count": 149,
      "metadata": {
        "id": "-GH8D7pdwi0w"
      },
      "outputs": [],
      "source": [
        "def read_pic(name):\n",
        "  \"\"\"\n",
        "  read pictures from path and convert them to tensor.\n",
        "  name = picture name \n",
        "  \"\"\"\n",
        "  path = '/content/drive/MyDrive/lfw2'\n",
        "  convert_tensor = transforms.ToTensor()\n",
        "  transform = transforms.Resize(105)\n",
        "  list_name = name[:-5]\n",
        "  img = Image.open(os.path.join(path,list_name,(name+'.jpg')))\n",
        "  return transform(convert_tensor(img))\n"
      ]
    },
    {
      "cell_type": "code",
      "source": [
        "path_train = 'Ass2_train.txt'\n",
        "path_test = 'Ass2_test.txt'"
      ],
      "metadata": {
        "id": "9BLybeRf4L9S"
      },
      "execution_count": 150,
      "outputs": []
    },
    {
      "cell_type": "code",
      "source": [
        "def txt_prep(path):\n",
        "  list_pic = []\n",
        "  with open(path) as f:\n",
        "      lines = f.readlines()\n",
        "      for line in lines[1:]:\n",
        "        split_name = line.split(\"\\t\")\n",
        "        if len(split_name) == 3 :\n",
        "          number_1 = split_name[1]\n",
        "          name_1 = split_name[0] +'_' + ((4-len(number_1)) * '0') + number_1\n",
        "          number_2 = split_name[2].split('\\n')[0]\n",
        "          name_2 = split_name[0] +'_' + ((4-len(number_2)) * '0') + number_2\n",
        "          list_pic.append(([read_pic(name_1),read_pic(name_2)],1))\n",
        "        else : \n",
        "          number_1 = split_name[1]\n",
        "          name_1 = split_name[0] +'_' + ((4-len(number_1)) * '0') + number_1\n",
        "          number_2 = split_name[3].split('\\n')[0]\n",
        "          name_2 = split_name[2] +'_' + ((4-len(number_2)) * '0') + number_2\n",
        "          list_pic.append(([read_pic(name_1),read_pic(name_2)],0))\n",
        "  return list_pic\n",
        "\n",
        "X_train =txt_prep(path_train)\n",
        "X_test = txt_prep(path_test)"
      ],
      "metadata": {
        "id": "PJa9ZHUd5Q7N"
      },
      "execution_count": null,
      "outputs": []
    },
    {
      "cell_type": "markdown",
      "source": [
        "# Split Train and Validation sets"
      ],
      "metadata": {
        "id": "ct2UaICA4rb3"
      }
    },
    {
      "cell_type": "code",
      "source": [
        "import random\n",
        "X_val = []\n",
        "for i in range(440):\n",
        "  X_val.append(X_train.pop(random.randint(0,len(X_train)-1)))\n",
        "len(X_val),len(X_train)"
      ],
      "metadata": {
        "colab": {
          "base_uri": "https://localhost:8080/"
        },
        "id": "gVrYGrzlGLLZ",
        "outputId": "517c7545-2a39-4d5c-8b3f-87795e2393bf"
      },
      "execution_count": 11,
      "outputs": [
        {
          "output_type": "execute_result",
          "data": {
            "text/plain": [
              "(440, 1760)"
            ]
          },
          "metadata": {},
          "execution_count": 11
        }
      ]
    },
    {
      "cell_type": "code",
      "execution_count": 153,
      "metadata": {
        "id": "sTKsRgrttKol"
      },
      "outputs": [],
      "source": [
        "batch_size = 128  # 64 for Model B \n",
        "\n",
        "# Create data loaders.\n",
        "train_dataloader = DataLoader(X_train, batch_size=batch_size, shuffle=True)\n",
        "val_dataloader = DataLoader(X_val, batch_size=batch_size, shuffle=True)\n",
        "test_dataloader = DataLoader(X_test, batch_size=batch_size, shuffle = True)"
      ]
    },
    {
      "cell_type": "code",
      "execution_count": 154,
      "metadata": {
        "id": "8-qinOXBtHya"
      },
      "outputs": [],
      "source": [
        "class SiameseNet(nn.Module):\n",
        "    def __init__(self,):\n",
        "        super(SiameseNet, self).__init__()\n",
        "\n",
        "        self.conv1 = nn.Conv2d(in_channels=1, out_channels=8, # model A - 64 out_channels\n",
        "                               kernel_size=10, stride=(1,1))\n",
        "        \n",
        "        self.maxPool1 = nn.MaxPool2d(kernel_size=2, stride=(2,2))\n",
        "\n",
        "        self.conv2 = nn.Conv2d(in_channels=8, out_channels=16, # model A -128 out_channels\n",
        "                               kernel_size=7, stride=(1,1))\n",
        "        \n",
        "        self.maxPool2 = nn.MaxPool2d(kernel_size=2, stride=(2,2))\n",
        "        \n",
        "        self.conv3 = nn.Conv2d(in_channels=16, out_channels=16, # model A - 128 out_channels\n",
        "                               kernel_size=4, stride=(1,1))\n",
        "        \n",
        "        self.maxPool3 = nn.MaxPool2d(kernel_size=2, stride=(2,2))\n",
        "\n",
        "        self.conv4 = nn.Conv2d(in_channels=16, out_channels=32, #model A - 256 out_channels\n",
        "                               kernel_size=4, stride=(1,1))\n",
        "        \n",
        "        self.flat = nn.Flatten()\n",
        "\n",
        "        self.fc1 = nn.Linear(in_features=1152,out_features=4096) #model A - 9152 in_features\n",
        "\n",
        "        self.fc2 = nn.Linear(in_features=4096,out_features=1)\n",
        "\n",
        "        \n",
        "        nn.init.normal_(self.conv1.weight,0,0.01)\n",
        "        nn.init.normal_(self.conv1.bias,0.5,0.01)\n",
        "        nn.init.normal_(self.conv2.weight,0,0.01)\n",
        "        nn.init.normal_(self.conv2.bias,0.5,0.01)\n",
        "        nn.init.normal_(self.conv3.weight,0,0.01)\n",
        "        nn.init.normal_(self.conv3.bias,0.5,0.01)\n",
        "        nn.init.normal_(self.conv4.weight,0,0.01)\n",
        "        nn.init.normal_(self.conv4.bias,0.5,0.01)\n",
        "        nn.init.normal_(self.fc1.weight,0,0.2)\n",
        "        nn.init.normal_(self.fc1.bias,0.5,0.01)\n",
        "        nn.init.normal_(self.fc2.weight,0,0.2)\n",
        "        nn.init.normal_(self.fc2.bias,0.5,0.01)\n",
        "\n",
        "\n",
        "    def forward(self, lst_x):\n",
        "      features = []\n",
        "      for x in lst_x: #for each tensor in lst_x\n",
        "        x = F.relu(self.conv1(x))\n",
        "        x = self.maxPool1(x)\n",
        "        x = F.relu(self.conv2(x))\n",
        "        x = self.maxPool2(x)\n",
        "        x = F.relu(self.conv3(x))\n",
        "        x = self.maxPool3(x)\n",
        "        x = F.relu(self.conv4(x))\n",
        "        x = self.flat(x)\n",
        "        x = self.fc1(x)\n",
        "        feature_vector = torch.sigmoid(x)\n",
        "        features.append(feature_vector)\n",
        "      diff_features = torch.abs(features[0] - features[1])\n",
        "      output = self.fc2(diff_features)\n",
        "      return torch.sigmoid(output)\n"
      ]
    },
    {
      "cell_type": "code",
      "execution_count": 21,
      "metadata": {
        "id": "OazQhhMlYPOv"
      },
      "outputs": [],
      "source": [
        "def train(dataloader, model, loss_fn, optimizer):\n",
        "    size = len(dataloader.dataset)\n",
        "    model.train()\n",
        "    loss_train = []\n",
        "    for batch, (X, y) in enumerate(dataloader):\n",
        "\n",
        "        # Compute prediction error\n",
        "        model.forward(X)\n",
        "        pred = model(X)\n",
        "        loss = loss_fn(pred, y.unsqueeze(1).float())\n",
        "\n",
        "        # Backpropagation\n",
        "        optimizer.zero_grad()\n",
        "        loss.backward()\n",
        "        optimizer.step()\n",
        "\n",
        "        if batch % 5 == 0:\n",
        "            loss, current = loss.item(), batch * batch_size\n",
        "            print(f\"loss: {loss:>7f}  [{current:>5d}/{size:>5d}]\")\n",
        "            loss_train.append(loss)\n",
        "    return loss_train"
      ]
    },
    {
      "cell_type": "code",
      "execution_count": 179,
      "metadata": {
        "id": "wjQsSzdGYerw"
      },
      "outputs": [],
      "source": [
        "metric = BinaryAccuracy()\n",
        "def test(dataloader, model, loss_fn):\n",
        "    size = len(dataloader.dataset)\n",
        "    num_batches = len(dataloader)\n",
        "    model.eval()\n",
        "    test_loss, correct = 0, 0\n",
        "    \n",
        "    # When predicting on a validation or test set, we don't graidents attached to the output tensor\n",
        "    # So, to make the output of the model gradient free we wrap the entire calculation\n",
        "    # with torch.no_grad()\n",
        "    # Another option, is to use detach after calculating the output\n",
        "    # And then we don't need to wrap everything in torch.no_grad()\n",
        "    # For example: pred = model(X).detach()\n",
        "    with torch.no_grad():\n",
        "        diff = []\n",
        "        correct = []\n",
        "        test_loss = []\n",
        "        max_diff = 1\n",
        "        largest_gap = []\n",
        "        for X, y in dataloader:\n",
        "            pred = model(X)\n",
        "            y = y.unsqueeze(1).float()\n",
        "            t =  (X,torch.abs(pred- y))\n",
        "            for i,diff in enumerate(t[1]):\n",
        "              if y.unsqueeze(1).float()[i] == 1:\n",
        "                if max_diff >  float(diff):\n",
        "                  max_diff =  float(diff)\n",
        "                  largest_gap.append((t[0][0][i],t[0][1][i]))\n",
        "                  pic.append([pred[i],y[i]])\n",
        "            test_loss.append(loss_fn(pred, y).item())\n",
        "            # correct += int(torch.sum(torch.where(pred>0.5,1,0).type(torch.float)==y))\n",
        "            correct.append(metric(pred, y))\n",
        "    test_loss = np.mean(test_loss)\n",
        "    # correct /= size\n",
        "    correct = np.mean(correct)\n",
        "    print(f\"Test Error: \\n Accuracy: {(correct*100):>0.1f}%, Avg loss: {test_loss:>7f} \\n\")\n",
        "    return largest_gap,pic,correct,test_loss"
      ]
    },
    {
      "cell_type": "code",
      "execution_count": 146,
      "metadata": {
        "id": "0BW2DeGDYjGj",
        "colab": {
          "base_uri": "https://localhost:8080/"
        },
        "outputId": "ca65acb2-2ae0-4d35-9b53-484b87174322"
      },
      "outputs": [
        {
          "output_type": "execute_result",
          "data": {
            "text/plain": [
              "SiameseNet(\n",
              "  (conv1): Conv2d(1, 8, kernel_size=(10, 10), stride=(1, 1))\n",
              "  (maxPool1): MaxPool2d(kernel_size=2, stride=(2, 2), padding=0, dilation=1, ceil_mode=False)\n",
              "  (conv2): Conv2d(8, 16, kernel_size=(7, 7), stride=(1, 1))\n",
              "  (maxPool2): MaxPool2d(kernel_size=2, stride=(2, 2), padding=0, dilation=1, ceil_mode=False)\n",
              "  (conv3): Conv2d(16, 16, kernel_size=(4, 4), stride=(1, 1))\n",
              "  (maxPool3): MaxPool2d(kernel_size=2, stride=(2, 2), padding=0, dilation=1, ceil_mode=False)\n",
              "  (conv4): Conv2d(16, 32, kernel_size=(4, 4), stride=(1, 1))\n",
              "  (flat): Flatten(start_dim=1, end_dim=-1)\n",
              "  (fc1): Linear(in_features=1152, out_features=4096, bias=True)\n",
              "  (fc2): Linear(in_features=4096, out_features=1, bias=True)\n",
              ")"
            ]
          },
          "metadata": {},
          "execution_count": 146
        }
      ],
      "source": [
        "model = SiameseNet()\n",
        "loss_fn = nn.BCELoss()\n",
        "model"
      ]
    },
    {
      "cell_type": "code",
      "execution_count": 111,
      "metadata": {
        "id": "Oits45uO32bN",
        "colab": {
          "base_uri": "https://localhost:8080/"
        },
        "outputId": "3ee19082-f1a5-4bfa-e5c7-b7c620fe86bb"
      },
      "outputs": [
        {
          "output_type": "stream",
          "name": "stdout",
          "text": [
            "Epoch 1\n",
            "-------------------------------\n",
            "loss: 0.002397  [    0/ 1760]\n",
            "loss: 0.001658  [  640/ 1760]\n",
            "loss: 0.011513  [ 1280/ 1760]\n",
            "Test Error: \n",
            " Accuracy: 64.0%, Avg loss: 1.953662 \n",
            "\n",
            "Epoch 2\n",
            "-------------------------------\n",
            "loss: 0.000671  [    0/ 1760]\n",
            "loss: 0.000450  [  640/ 1760]\n",
            "loss: 0.000993  [ 1280/ 1760]\n",
            "Test Error: \n",
            " Accuracy: 65.5%, Avg loss: 1.986336 \n",
            "\n",
            "Epoch 3\n",
            "-------------------------------\n",
            "loss: 0.002300  [    0/ 1760]\n",
            "loss: 0.009850  [  640/ 1760]\n",
            "loss: 0.002498  [ 1280/ 1760]\n",
            "Test Error: \n",
            " Accuracy: 64.1%, Avg loss: 2.086555 \n",
            "\n",
            "Epoch 4\n",
            "-------------------------------\n",
            "loss: 0.000980  [    0/ 1760]\n",
            "loss: 0.003029  [  640/ 1760]\n",
            "loss: 0.056870  [ 1280/ 1760]\n",
            "Test Error: \n",
            " Accuracy: 64.8%, Avg loss: 1.834298 \n",
            "\n",
            "Epoch 5\n",
            "-------------------------------\n",
            "loss: 0.006809  [    0/ 1760]\n",
            "loss: 0.002318  [  640/ 1760]\n",
            "loss: 0.003166  [ 1280/ 1760]\n",
            "Test Error: \n",
            " Accuracy: 65.5%, Avg loss: 2.085542 \n",
            "\n",
            "Epoch 6\n",
            "-------------------------------\n",
            "loss: 0.000471  [    0/ 1760]\n",
            "loss: 0.001311  [  640/ 1760]\n",
            "loss: 0.006618  [ 1280/ 1760]\n",
            "Test Error: \n",
            " Accuracy: 65.5%, Avg loss: 1.848213 \n",
            "\n",
            "Epoch 7\n",
            "-------------------------------\n",
            "loss: 0.000742  [    0/ 1760]\n",
            "loss: 0.000744  [  640/ 1760]\n",
            "loss: 0.013697  [ 1280/ 1760]\n",
            "Test Error: \n",
            " Accuracy: 66.4%, Avg loss: 1.836955 \n",
            "\n",
            "Epoch 8\n",
            "-------------------------------\n",
            "loss: 0.002391  [    0/ 1760]\n",
            "loss: 0.000678  [  640/ 1760]\n",
            "loss: 0.000665  [ 1280/ 1760]\n",
            "Test Error: \n",
            " Accuracy: 66.8%, Avg loss: 1.673561 \n",
            "\n",
            "Epoch 9\n",
            "-------------------------------\n",
            "loss: 0.000479  [    0/ 1760]\n",
            "loss: 0.000256  [  640/ 1760]\n",
            "loss: 0.001417  [ 1280/ 1760]\n",
            "Test Error: \n",
            " Accuracy: 68.7%, Avg loss: 2.366446 \n",
            "\n",
            "Epoch 10\n",
            "-------------------------------\n",
            "loss: 0.001130  [    0/ 1760]\n",
            "loss: 0.001853  [  640/ 1760]\n",
            "loss: 0.000799  [ 1280/ 1760]\n",
            "Test Error: \n",
            " Accuracy: 68.7%, Avg loss: 2.134615 \n",
            "\n",
            "Epoch 11\n",
            "-------------------------------\n",
            "loss: 0.000411  [    0/ 1760]\n",
            "loss: 0.000544  [  640/ 1760]\n",
            "loss: 0.000965  [ 1280/ 1760]\n",
            "Test Error: \n",
            " Accuracy: 69.7%, Avg loss: 2.104658 \n",
            "\n",
            "Epoch 12\n",
            "-------------------------------\n",
            "loss: 0.000757  [    0/ 1760]\n",
            "loss: 0.000761  [  640/ 1760]\n",
            "loss: 0.000242  [ 1280/ 1760]\n",
            "Test Error: \n",
            " Accuracy: 69.8%, Avg loss: 1.734137 \n",
            "\n",
            "Epoch 13\n",
            "-------------------------------\n",
            "loss: 0.000786  [    0/ 1760]\n",
            "loss: 0.002706  [  640/ 1760]\n",
            "loss: 0.000917  [ 1280/ 1760]\n",
            "Test Error: \n",
            " Accuracy: 67.5%, Avg loss: 1.605937 \n",
            "\n",
            "Epoch 14\n",
            "-------------------------------\n",
            "loss: 0.001120  [    0/ 1760]\n",
            "loss: 0.001078  [  640/ 1760]\n",
            "loss: 0.007478  [ 1280/ 1760]\n",
            "Test Error: \n",
            " Accuracy: 67.9%, Avg loss: 1.704330 \n",
            "\n",
            "Epoch 15\n",
            "-------------------------------\n",
            "loss: 0.000401  [    0/ 1760]\n",
            "loss: 0.000493  [  640/ 1760]\n",
            "loss: 0.000357  [ 1280/ 1760]\n",
            "Test Error: \n",
            " Accuracy: 68.1%, Avg loss: 1.696928 \n",
            "\n",
            "Epoch 16\n",
            "-------------------------------\n",
            "loss: 0.000648  [    0/ 1760]\n",
            "loss: 0.003210  [  640/ 1760]\n",
            "loss: 0.000507  [ 1280/ 1760]\n",
            "Test Error: \n",
            " Accuracy: 69.7%, Avg loss: 1.724995 \n",
            "\n",
            "Epoch 17\n",
            "-------------------------------\n",
            "loss: 0.000235  [    0/ 1760]\n",
            "loss: 0.000206  [  640/ 1760]\n",
            "loss: 0.048284  [ 1280/ 1760]\n",
            "Test Error: \n",
            " Accuracy: 66.8%, Avg loss: 1.584232 \n",
            "\n",
            "Epoch 18\n",
            "-------------------------------\n",
            "loss: 0.000490  [    0/ 1760]\n",
            "loss: 0.000899  [  640/ 1760]\n",
            "loss: 0.002245  [ 1280/ 1760]\n",
            "Test Error: \n",
            " Accuracy: 67.2%, Avg loss: 1.737578 \n",
            "\n",
            "Epoch 19\n",
            "-------------------------------\n",
            "loss: 0.000356  [    0/ 1760]\n",
            "loss: 0.000307  [  640/ 1760]\n",
            "loss: 0.001149  [ 1280/ 1760]\n",
            "Test Error: \n",
            " Accuracy: 65.6%, Avg loss: 1.684444 \n",
            "\n",
            "Epoch 20\n",
            "-------------------------------\n",
            "loss: 0.000706  [    0/ 1760]\n",
            "loss: 0.000309  [  640/ 1760]\n",
            "loss: 0.000256  [ 1280/ 1760]\n",
            "Test Error: \n",
            " Accuracy: 67.1%, Avg loss: 1.784060 \n",
            "\n",
            "Done!\n"
          ]
        }
      ],
      "source": [
        "epochs = 20\n",
        "lr=1e-3\n",
        "acc_list = []\n",
        "loss_list = {'train': [],\n",
        "             'val' : []}\n",
        "for t in range(epochs):\n",
        "    print(f\"Epoch {t+1}\\n-------------------------------\")\n",
        "    optimizer = torch.optim.Adam(model.parameters(), lr=lr, weight_decay=1e-4)\n",
        "    train(train_dataloader, model, loss_fn, optimizer)\n",
        "    lr = lr*0.99\n",
        "    a,b,acc,loss = test(val_dataloader, model, loss_fn)\n",
        "    acc_list.append(acc)\n",
        "    loss_list['val'].append(loss)\n",
        "print(\"Done!\")"
      ]
    },
    {
      "cell_type": "code",
      "execution_count": 159,
      "metadata": {
        "id": "nWuOagaTLZ2U",
        "colab": {
          "base_uri": "https://localhost:8080/"
        },
        "outputId": "310cb8be-d70d-4213-b2a2-e7387b3eb6fc"
      },
      "outputs": [
        {
          "output_type": "stream",
          "name": "stdout",
          "text": [
            "Test Error: \n",
            " Accuracy: 63.7%, Avg loss: 0.653723 \n",
            "\n"
          ]
        }
      ],
      "source": [
        "t,pic,a,b =test(test_dataloader, model, loss_fn)"
      ]
    },
    {
      "cell_type": "code",
      "source": [
        "plt.title('Accuracy by Epoc number')\n",
        "plt.xlabel('Epoc number')\n",
        "plt.ylabel('Accuracy')\n",
        "plt.plot([i for i in range(1,13)],acc_list[:12])\n",
        "plt.grid(alpha=0.1)\n",
        "plt.show()"
      ],
      "metadata": {
        "colab": {
          "base_uri": "https://localhost:8080/",
          "height": 295
        },
        "id": "ki1T7K1-p0em",
        "outputId": "d27e72f0-c121-4af0-ab30-9630fe08ade5"
      },
      "execution_count": 122,
      "outputs": [
        {
          "output_type": "display_data",
          "data": {
            "text/plain": [
              "<Figure size 432x288 with 1 Axes>"
            ],
            "image/png": "[encoded data removed]"
          },
          "metadata": {
            "needs_background": "light"
          }
        }
      ]
    },
    {
      "cell_type": "code",
      "source": [
        "plt.title('Validation Loss by Epocs number')\n",
        "plt.xlabel('Epoc number')\n",
        "plt.ylabel('Loss')\n",
        "plt.plot([i for i in range(1,21)],loss_list['val'])\n",
        "# plt.plot([i for i in range(1,21)],loss_list['train'])\n",
        "plt.grid(alpha=0.1)\n",
        "plt.show()"
      ],
      "metadata": {
        "colab": {
          "base_uri": "https://localhost:8080/",
          "height": 295
        },
        "id": "yEpj6VAFp93_",
        "outputId": "fe2cd1ce-a935-45d0-c28e-5bc1a2a1aca1"
      },
      "execution_count": 117,
      "outputs": [
        {
          "output_type": "display_data",
          "data": {
            "text/plain": [
              "<Figure size 432x288 with 1 Axes>"
            ],
            "image/png": "[encoded data removed]"
          },
          "metadata": {
            "needs_background": "light"
          }
        }
      ]
    },
    {
      "cell_type": "markdown",
      "source": [
        "# Model mistakes"
      ],
      "metadata": {
        "id": "V2vezmRGZAm_"
      }
    },
    {
      "cell_type": "code",
      "source": [
        "tr = transforms.ToPILImage()\n",
        "tr(t[0])"
      ],
      "metadata": {
        "colab": {
          "base_uri": "https://localhost:8080/",
          "height": 122
        },
        "id": "EFGyZWUiU7vE",
        "outputId": "7b045794-f2cc-4170-ecb7-1fbf2cd5e434"
      },
      "execution_count": 165,
      "outputs": [
        {
          "output_type": "execute_result",
          "data": {
            "text/plain": [
              "<PIL.Image.Image image mode=L size=105x105 at 0x7F2C27D2BEB0>"
            ],
            "image/png": "[encoded data removed]"
          },
          "metadata": {},
          "execution_count": 165
        }
      ]
    },
    {
      "cell_type": "code",
      "source": [
        "tr(t[1])"
      ],
      "metadata": {
        "colab": {
          "base_uri": "https://localhost:8080/",
          "height": 122
        },
        "id": "2PRu8VwiXuoq",
        "outputId": "94e340e6-8187-48bc-d246-3b6d16f3204d"
      },
      "execution_count": 161,
      "outputs": [
        {
          "output_type": "execute_result",
          "data": {
            "text/plain": [
              "<PIL.Image.Image image mode=L size=105x105 at 0x7F2CC21C84C0>"
            ],
            "image/png": "[encoded data removed]"
          },
          "metadata": {},
          "execution_count": 161
        }
      ]
    },
    {
      "cell_type": "code",
      "source": [
        "print(f'Model predicted {float(pic[0])} where actually the result is: {int(pic[1])}')"
      ],
      "metadata": {
        "colab": {
          "base_uri": "https://localhost:8080/"
        },
        "id": "GWJKq53OQzKE",
        "outputId": "c973dd9d-2d26-4ae1-cce9-d010a24862f9"
      },
      "execution_count": 162,
      "outputs": [
        {
          "output_type": "stream",
          "name": "stdout",
          "text": [
            "Model predicted 0.2881831228733063 where actually the result is: 1\n"
          ]
        }
      ]
    },
    {
      "cell_type": "code",
      "source": [
        "model = SiameseNet()\n",
        "model = torch.load('/content/drive/MyDrive/Deep_models/model_3_less_layers.txt')\n",
        "model.eval()\n",
        "t,pic,a,b = test(test_dataloader, model, loss_fn)\n"
      ],
      "metadata": {
        "colab": {
          "base_uri": "https://localhost:8080/"
        },
        "id": "l-wfQb_I4Xvo",
        "outputId": "1d339c9b-90e1-4dee-81c7-4a66d9cc1211"
      },
      "execution_count": 180,
      "outputs": [
        {
          "output_type": "stream",
          "name": "stdout",
          "text": [
            "Test Error: \n",
            " Accuracy: 63.7%, Avg loss: 0.653972 \n",
            "\n"
          ]
        }
      ]
    },
    {
      "cell_type": "code",
      "source": [
        "tr = transforms.ToPILImage()\n",
        "tr(t[1][0])"
      ],
      "metadata": {
        "colab": {
          "base_uri": "https://localhost:8080/",
          "height": 122
        },
        "id": "SqP3KRLy7I5A",
        "outputId": "b5f01b82-b0c1-4e0d-a3fc-93108fd2a6b2"
      },
      "execution_count": 190,
      "outputs": [
        {
          "output_type": "execute_result",
          "data": {
            "text/plain": [
              "<PIL.Image.Image image mode=L size=105x105 at 0x7F2C1FF4B6A0>"
            ],
            "image/png": "[encoded data removed]"
          },
          "metadata": {},
          "execution_count": 190
        }
      ]
    },
    {
      "cell_type": "code",
      "source": [
        "tr(t[1][1])"
      ],
      "metadata": {
        "colab": {
          "base_uri": "https://localhost:8080/",
          "height": 122
        },
        "id": "2AYwBMwJ7I_Q",
        "outputId": "7f394470-1f24-4dac-a476-739b7cca763b"
      },
      "execution_count": 189,
      "outputs": [
        {
          "output_type": "execute_result",
          "data": {
            "text/plain": [
              "<PIL.Image.Image image mode=L size=105x105 at 0x7F2C1FF4B1F0>"
            ],
            "image/png": "[encoded data removed]"
          },
          "metadata": {},
          "execution_count": 189
        }
      ]
    },
    {
      "cell_type": "code",
      "source": [
        "print(f'Model predicted {float(pic[5][0])} where actually the result is: {int(pic[5][1])}')"
      ],
      "metadata": {
        "colab": {
          "base_uri": "https://localhost:8080/"
        },
        "id": "ybWYMveQ7pWn",
        "outputId": "7d60358e-3053-406b-9ad2-27a69fe0150a"
      },
      "execution_count": 202,
      "outputs": [
        {
          "output_type": "stream",
          "name": "stdout",
          "text": [
            "Model predicted 0.5653400421142578 where actually the result is: 1\n"
          ]
        }
      ]
    }
  ],
  "metadata": {
    "colab": {
      "provenance": []
    },
    "kernelspec": {
      "display_name": "Python 3",
      "name": "python3"
    },
    "language_info": {
      "name": "python"
    }
  },
  "nbformat": 4,
  "nbformat_minor": 0
}